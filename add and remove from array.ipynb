{
 "cells": [
  {
   "cell_type": "code",
   "execution_count": 1,
   "id": "88e45953-0cd5-40b5-93f4-89cb030af5ec",
   "metadata": {},
   "outputs": [],
   "source": [
    "import numpy as np"
   ]
  },
  {
   "cell_type": "code",
   "execution_count": 2,
   "id": "937fbdfc-be85-489b-af5c-4697961c0467",
   "metadata": {},
   "outputs": [
    {
     "name": "stdout",
     "output_type": "stream",
     "text": [
      "[12 23 34 56]\n"
     ]
    }
   ],
   "source": [
    "arr=np.array([12,23,34,56])\n",
    "print(arr)"
   ]
  },
  {
   "cell_type": "code",
   "execution_count": 4,
   "id": "e7a09c9b-46fc-45fd-beac-f5919f9b2d0e",
   "metadata": {},
   "outputs": [
    {
     "name": "stdout",
     "output_type": "stream",
     "text": [
      "[12 23 34 56 45]\n",
      "[ 12  23  34  56 334  55]\n"
     ]
    }
   ],
   "source": [
    "# Insert element in array\n",
    "print(np.append(arr,45))\n",
    "print(np.append(arr,[334,55]))"
   ]
  },
  {
   "cell_type": "code",
   "execution_count": 5,
   "id": "cbee9cdf-b2b4-43b8-bd2c-5648ac8b7ea9",
   "metadata": {},
   "outputs": [
    {
     "name": "stdout",
     "output_type": "stream",
     "text": [
      "[12 23  2 34 56]\n"
     ]
    }
   ],
   "source": [
    "# Insert element at index wise\n",
    "print(np.insert(arr,2,2))"
   ]
  },
  {
   "cell_type": "code",
   "execution_count": 6,
   "id": "7c93f8bd-e6ff-4f09-9800-884a1a03a548",
   "metadata": {},
   "outputs": [
    {
     "name": "stdout",
     "output_type": "stream",
     "text": [
      "([10, 20, 30], [30, 54, 56])\n"
     ]
    }
   ],
   "source": [
    "arr1 = ([10,20,30],[30,54,56])\n",
    "print(arr1)"
   ]
  },
  {
   "cell_type": "code",
   "execution_count": 11,
   "id": "577b0a74-3472-480b-aa4c-4f41fbf9619f",
   "metadata": {},
   "outputs": [
    {
     "name": "stdout",
     "output_type": "stream",
     "text": [
      "[12 23 56]\n"
     ]
    }
   ],
   "source": [
    "# Delete element in array\n",
    "print(np.delete(arr,2))"
   ]
  },
  {
   "cell_type": "code",
   "execution_count": 8,
   "id": "f8dc5675-49a8-4dc0-9da1-d182a318d2af",
   "metadata": {},
   "outputs": [
    {
     "name": "stdout",
     "output_type": "stream",
     "text": [
      "[10 20 30 30 54 56 56]\n"
     ]
    }
   ],
   "source": [
    "#insert element in 2D array\n",
    "print(np.append(arr1,56))"
   ]
  },
  {
   "cell_type": "code",
   "execution_count": 14,
   "id": "668f4196-7659-45e7-a3eb-ea8f12c820a9",
   "metadata": {},
   "outputs": [
    {
     "name": "stdout",
     "output_type": "stream",
     "text": [
      "[[10 23 20 30]\n",
      " [30 32 54 56]]\n"
     ]
    }
   ],
   "source": [
    "print(np.insert(arr1,1,[23,32], axis=1))"
   ]
  },
  {
   "cell_type": "code",
   "execution_count": 17,
   "id": "14296240-f3b5-4e4c-96b9-7a23b0d74487",
   "metadata": {},
   "outputs": [
    {
     "name": "stdout",
     "output_type": "stream",
     "text": [
      "[[10 20 30]]\n"
     ]
    }
   ],
   "source": [
    "print(np.delete(arr1,1, axis=0))"
   ]
  },
  {
   "cell_type": "code",
   "execution_count": null,
   "id": "32336038-e4b9-46eb-992f-26dda5602506",
   "metadata": {},
   "outputs": [],
   "source": []
  }
 ],
 "metadata": {
  "kernelspec": {
   "display_name": "Python 3 (ipykernel)",
   "language": "python",
   "name": "python3"
  },
  "language_info": {
   "codemirror_mode": {
    "name": "ipython",
    "version": 3
   },
   "file_extension": ".py",
   "mimetype": "text/x-python",
   "name": "python",
   "nbconvert_exporter": "python",
   "pygments_lexer": "ipython3",
   "version": "3.12.3"
  }
 },
 "nbformat": 4,
 "nbformat_minor": 5
}
