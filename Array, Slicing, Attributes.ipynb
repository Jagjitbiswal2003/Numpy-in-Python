{
 "cells": [
  {
   "cell_type": "code",
   "execution_count": 5,
   "id": "7f8c6f43-5c00-444d-a70a-1a809007c1c1",
   "metadata": {},
   "outputs": [],
   "source": [
    "import numpy as np"
   ]
  },
  {
   "cell_type": "code",
   "execution_count": 6,
   "id": "ab48e7e1-e919-473e-9b77-4610fe2a8f36",
   "metadata": {},
   "outputs": [
    {
     "name": "stdout",
     "output_type": "stream",
     "text": [
      "[10 20 30 40]\n",
      "<class 'numpy.ndarray'>\n"
     ]
    }
   ],
   "source": [
    "# Creating an array using Numpy\n",
    "arr = np.array([10,20,30,40])\n",
    "print(arr)\n",
    "print(type(arr))"
   ]
  },
  {
   "cell_type": "code",
   "execution_count": 7,
   "id": "6b706159-50d2-4fe9-91c3-fb26a28ae65f",
   "metadata": {},
   "outputs": [
    {
     "name": "stdout",
     "output_type": "stream",
     "text": [
      "[[10 20 30]\n",
      " [20 40 60]]\n",
      "<class 'numpy.ndarray'>\n"
     ]
    }
   ],
   "source": [
    "# 2-D array\n",
    "arr = np.array([[10,20,30],[20,40,60]])\n",
    "print(arr)\n",
    "print(type(arr))"
   ]
  },
  {
   "cell_type": "code",
   "execution_count": 8,
   "id": "e50009f9-a1dc-4dd9-a6e0-0990a127fdf9",
   "metadata": {},
   "outputs": [
    {
     "name": "stdout",
     "output_type": "stream",
     "text": [
      "[10 20 30 40 50 60 70 80]\n",
      "[10 20 30 40 50]\n",
      "[40 50]\n",
      "[30 40 50 60]\n",
      "[40 50 60 70 80]\n",
      "[50 60 70]\n",
      "[80 70 60 50 40 30 20 10]\n"
     ]
    }
   ],
   "source": [
    "# Slicing in array\n",
    "#index         0  1  2  3  4  5  6  7\n",
    "arr=np.array([10,20,30,40,50,60,70,80])\n",
    "#index      -8  -7  -6  -5  -4  -3  -2 -1\n",
    "print(arr[0:]) # print the whole array\n",
    "print(arr[0:5]) # print the array of index 4\n",
    "print(arr[3:5]) # print the array from 3rd index to 4th index\n",
    "print(arr[2:6]) #print the array from 2nd index to 5th index\n",
    "print(arr[3:]) #print the array from 3rd index to n-1 index\n",
    "print(arr[-4:-1]) #print -4th index to -2nd index\n",
    "print(arr[::-1]) #print the reverse of array"
   ]
  },
  {
   "cell_type": "code",
   "execution_count": 9,
   "id": "2942e7fc-939a-4289-86fc-49ef6269fa87",
   "metadata": {},
   "outputs": [
    {
     "name": "stdout",
     "output_type": "stream",
     "text": [
      "[20 30]\n"
     ]
    }
   ],
   "source": [
    "# Slicing on 2D array\n",
    "arr = np.array([[10,20,30],[20,40,60]])\n",
    "#print(arr[0:2,0:2])\n",
    "#print(arr[0:2, 0:3])\n",
    "print(arr[0,1:3])\n"
   ]
  },
  {
   "cell_type": "code",
   "execution_count": 10,
   "id": "9bcea9e1-f3fb-4937-a73d-7619022cc6a5",
   "metadata": {},
   "outputs": [
    {
     "name": "stdout",
     "output_type": "stream",
     "text": [
      "(4,)\n",
      "(2, 3)\n",
      "\n",
      "4\n",
      "6\n",
      "\n",
      "1\n",
      "2\n"
     ]
    }
   ],
   "source": [
    "# Array Attributes\n",
    "arr=np.array([10,20,30,40])\n",
    "arr1 = np.array([[10,20,30],[20,40,60]])\n",
    "print(np.shape(arr)) # return the no. of rows and cols \n",
    "print(np.shape(arr1)) # return the no. of rows and cols in 2D array\n",
    "print()\n",
    "# Return the size of array\n",
    "print(np.size(arr))\n",
    "print(np.size(arr1)) \n",
    "print()\n",
    "# Return the dimension of array\n",
    "print(np.ndim(arr))\n",
    "print(np.ndim(arr1))"
   ]
  },
  {
   "cell_type": "code",
   "execution_count": 14,
   "id": "d782611c-65aa-471c-84f7-f1b2c143056b",
   "metadata": {},
   "outputs": [
    {
     "name": "stdout",
     "output_type": "stream",
     "text": [
      "4\n",
      "2\n",
      "\n",
      "int32\n",
      "int32\n"
     ]
    }
   ],
   "source": [
    "#some other attributes of array\n",
    "arr=np.array([10,20,30,40])\n",
    "arr1 = np.array([[10,20,30],[20,40,60]])\n",
    "print(len(arr))\n",
    "print(len(arr1))\n",
    "print()\n",
    "print(arr.dtype)\n",
    "print(arr1.dtype)"
   ]
  },
  {
   "cell_type": "code",
   "execution_count": 24,
   "id": "1dbe3f7f-3f98-4d8d-8120-b31ba794189b",
   "metadata": {},
   "outputs": [
    {
     "name": "stdout",
     "output_type": "stream",
     "text": [
      "['10' '20' '30' '40']\n",
      "int32\n"
     ]
    }
   ],
   "source": [
    "#convert the array to different types\n",
    "arr=np.array([10,20,30,40])\n",
    "print(arr.astype(str))\n",
    "print(arr.dtype)"
   ]
  },
  {
   "cell_type": "code",
   "execution_count": null,
   "id": "f033fa30-af61-4b04-a21d-390b4d51387f",
   "metadata": {},
   "outputs": [],
   "source": []
  }
 ],
 "metadata": {
  "kernelspec": {
   "display_name": "Python 3 (ipykernel)",
   "language": "python",
   "name": "python3"
  },
  "language_info": {
   "codemirror_mode": {
    "name": "ipython",
    "version": 3
   },
   "file_extension": ".py",
   "mimetype": "text/x-python",
   "name": "python",
   "nbconvert_exporter": "python",
   "pygments_lexer": "ipython3",
   "version": "3.12.3"
  }
 },
 "nbformat": 4,
 "nbformat_minor": 5
}
