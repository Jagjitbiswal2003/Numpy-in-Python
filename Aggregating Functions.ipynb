{
 "cells": [
  {
   "cell_type": "code",
   "execution_count": 33,
   "id": "a41f7833-f9e9-4efd-ad15-5f082f9af7cd",
   "metadata": {},
   "outputs": [],
   "source": [
    "import numpy as np\n",
    "import statistics as s"
   ]
  },
  {
   "cell_type": "code",
   "execution_count": 34,
   "id": "1bf39335-0455-4ef3-aec3-d7585b99a843",
   "metadata": {},
   "outputs": [
    {
     "name": "stdout",
     "output_type": "stream",
     "text": [
      "[10  3 21 34 56 90]\n"
     ]
    }
   ],
   "source": [
    "arr = np.array([10,3,21,34,56,90])\n",
    "print(arr)"
   ]
  },
  {
   "cell_type": "code",
   "execution_count": 35,
   "id": "91190233-c8b6-47c6-8783-5721463bf291",
   "metadata": {},
   "outputs": [
    {
     "name": "stdout",
     "output_type": "stream",
     "text": [
      "214\n",
      "3\n",
      "90\n",
      "6\n"
     ]
    }
   ],
   "source": [
    "# Aggregating functions in array\n",
    "print(np.sum(arr))\n",
    "print(np.min(arr))\n",
    "print(np.max(arr))\n",
    "print(np.size(arr))"
   ]
  },
  {
   "cell_type": "code",
   "execution_count": 36,
   "id": "ffc6f3d5-c538-446a-9533-e1f50292bdae",
   "metadata": {},
   "outputs": [
    {
     "name": "stdout",
     "output_type": "stream",
     "text": [
      "35.666666666666664\n",
      "[ 10  13  34  68 124 214]\n",
      "[       10        30       630     21420   1199520 107956800]\n"
     ]
    }
   ],
   "source": [
    "print(np.mean(arr))\n",
    "print(np.cumsum(arr)) #cumilative sum\n",
    "print(np.cumprod(arr)) #cumilative product"
   ]
  },
  {
   "cell_type": "code",
   "execution_count": 37,
   "id": "dabbb1ee-0cc1-498d-8125-ff3d04d9731b",
   "metadata": {},
   "outputs": [
    {
     "name": "stdout",
     "output_type": "stream",
     "text": [
      "[100 150 199 200 250 130] \n",
      " [10 50 30 40 30 10]\n"
     ]
    }
   ],
   "source": [
    "a=[100,150,199,200,250,130]\n",
    "b=[10,50,30,40,30,10]\n",
    "price = np.array(a)\n",
    "quantity = np.array(b)\n",
    "print(price,\"\\n\",quantity)\n",
    "\n"
   ]
  },
  {
   "cell_type": "code",
   "execution_count": 40,
   "id": "c441b17a-93f2-4b11-91ce-fee855cc9e1f",
   "metadata": {},
   "outputs": [
    {
     "name": "stdout",
     "output_type": "stream",
     "text": [
      "35.666666666666664\n",
      "27.5\n",
      "10\n",
      "29.747082023097473\n",
      "884.8888888888888\n"
     ]
    }
   ],
   "source": [
    "# basic statistical function\n",
    "print(np.mean(arr))\n",
    "print(np.median(arr))\n",
    "print(s.mode(arr))\n",
    "print(np.std(arr))\n",
    "print(np.var(arr))"
   ]
  },
  {
   "cell_type": "code",
   "execution_count": 45,
   "id": "225c9f79-a31f-4655-bd92-37383940926a",
   "metadata": {},
   "outputs": [
    {
     "name": "stdout",
     "output_type": "stream",
     "text": [
      "[[ 1.         -0.14555496]\n",
      " [-0.14555496  1.        ]]\n"
     ]
    }
   ],
   "source": [
    "#Cofficient of corelation\n",
    "# -1 represent inversely proportional relationship\n",
    "# +1 represent proportional relationhip\n",
    "# 0 means no relationship\n",
    "d1=np.array([12,23,34,43,1])\n",
    "d2=np.array([21,78,21,34,45])\n",
    "print(np.corrcoef([d1,d2]))"
   ]
  }
 ],
 "metadata": {
  "kernelspec": {
   "display_name": "Python 3 (ipykernel)",
   "language": "python",
   "name": "python3"
  },
  "language_info": {
   "codemirror_mode": {
    "name": "ipython",
    "version": 3
   },
   "file_extension": ".py",
   "mimetype": "text/x-python",
   "name": "python",
   "nbconvert_exporter": "python",
   "pygments_lexer": "ipython3",
   "version": "3.12.3"
  }
 },
 "nbformat": 4,
 "nbformat_minor": 5
}
