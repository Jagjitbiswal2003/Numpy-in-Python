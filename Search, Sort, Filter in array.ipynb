{
 "cells": [
  {
   "cell_type": "code",
   "execution_count": 1,
   "id": "e0d21847-9117-4ebe-82d4-55c360824bcd",
   "metadata": {},
   "outputs": [],
   "source": [
    "import numpy as np"
   ]
  },
  {
   "cell_type": "code",
   "execution_count": 7,
   "id": "b9c42fa4-1183-4803-ba13-26cad56d687d",
   "metadata": {},
   "outputs": [
    {
     "name": "stdout",
     "output_type": "stream",
     "text": [
      "[ 78  12  34 100 200 123   1]\n",
      "\n",
      "[[ 12  54  65   1   2]\n",
      " [ 90  89 100 200  43]]\n"
     ]
    }
   ],
   "source": [
    "arr = np.array([78,12,34,100,200,123,1])\n",
    "arr1 = np.array([[12,54,65,1,2],[90,89,100,200,43]])\n",
    "print(arr)\n",
    "print()\n",
    "print(arr1)"
   ]
  },
  {
   "cell_type": "code",
   "execution_count": 8,
   "id": "e876d284-bf5e-4a66-8530-690f1c5f5f81",
   "metadata": {},
   "outputs": [
    {
     "name": "stdout",
     "output_type": "stream",
     "text": [
      "[  1  12  34  78 100 123 200]\n",
      "\n",
      "[[  1   2  12  54  65]\n",
      " [ 43  89  90 100 200]]\n"
     ]
    }
   ],
   "source": [
    "#Sort the 1D array and 2D array\n",
    "print(np.sort(arr))\n",
    "print()\n",
    "print(np.sort(arr1))"
   ]
  },
  {
   "cell_type": "code",
   "execution_count": 14,
   "id": "945e1180-dca3-423c-9102-5d9762867288",
   "metadata": {},
   "outputs": [
    {
     "name": "stdout",
     "output_type": "stream",
     "text": [
      "(array([3], dtype=int64),)\n",
      "\n",
      "(array([0, 1, 2, 3, 4], dtype=int64),)\n",
      "\n",
      "(array([1], dtype=int64), array([1], dtype=int64))\n"
     ]
    }
   ],
   "source": [
    "# Search element in array\n",
    "s = np.where(arr == 100)\n",
    "s1= np.where(arr %2 == 0)\n",
    "s2=np.where(arr1 == 89)\n",
    "print(s)\n",
    "print()\n",
    "print(s1)\n",
    "print()\n",
    "print(s2)"
   ]
  },
  {
   "cell_type": "code",
   "execution_count": 15,
   "id": "0dca4974-3b36-4e56-8b2f-e4c5e28b4a9e",
   "metadata": {},
   "outputs": [
    {
     "name": "stdout",
     "output_type": "stream",
     "text": [
      "4\n"
     ]
    }
   ],
   "source": [
    "arr = np.array([1,2,3,4,5,6]) # array must be sorted for searchsorted\n",
    "ss = np.searchsorted(arr,5)\n",
    "print(ss)"
   ]
  },
  {
   "cell_type": "code",
   "execution_count": 16,
   "id": "70ae021b-1da2-448b-803e-cc2e9fe9af64",
   "metadata": {},
   "outputs": [
    {
     "name": "stdout",
     "output_type": "stream",
     "text": [
      "[2 4]\n"
     ]
    }
   ],
   "source": [
    "# Filter in array\n",
    "fa = [False,True,False,True,False,False]\n",
    "new_arr = arr[fa]\n",
    "print(new_arr)"
   ]
  },
  {
   "cell_type": "code",
   "execution_count": 17,
   "id": "6ea19ec9-32d3-4a5c-9abb-f6c98a707052",
   "metadata": {},
   "outputs": [
    {
     "name": "stdout",
     "output_type": "stream",
     "text": [
      "[3 4 5 6]\n"
     ]
    }
   ],
   "source": [
    "fa = arr>2\n",
    "new_arr = arr[fa]\n",
    "print(new_arr)"
   ]
  },
  {
   "cell_type": "code",
   "execution_count": null,
   "id": "4d9175d8-d376-4a93-a99d-225c8aa2b303",
   "metadata": {},
   "outputs": [],
   "source": []
  }
 ],
 "metadata": {
  "kernelspec": {
   "display_name": "Python 3 (ipykernel)",
   "language": "python",
   "name": "python3"
  },
  "language_info": {
   "codemirror_mode": {
    "name": "ipython",
    "version": 3
   },
   "file_extension": ".py",
   "mimetype": "text/x-python",
   "name": "python",
   "nbconvert_exporter": "python",
   "pygments_lexer": "ipython3",
   "version": "3.12.3"
  }
 },
 "nbformat": 4,
 "nbformat_minor": 5
}
