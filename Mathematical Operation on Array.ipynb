{
 "cells": [
  {
   "cell_type": "code",
   "execution_count": 1,
   "id": "520e8e6e-7b2a-4a8b-9a4d-3460976d83bc",
   "metadata": {},
   "outputs": [],
   "source": [
    "import numpy as np"
   ]
  },
  {
   "cell_type": "code",
   "execution_count": 3,
   "id": "41c865e2-4e48-476a-8e68-a87c7188a093",
   "metadata": {},
   "outputs": [
    {
     "name": "stdout",
     "output_type": "stream",
     "text": [
      "[10 20 34 40] [ 5 18 40 35]\n"
     ]
    }
   ],
   "source": [
    "arr=np.array([10,20,34,40])\n",
    "arr1=np.array([5,18,40,35])\n",
    "print(arr,arr1)"
   ]
  },
  {
   "cell_type": "code",
   "execution_count": 17,
   "id": "2d570bf8-5403-45bb-a4ce-3d3a4adba319",
   "metadata": {},
   "outputs": [
    {
     "name": "stdout",
     "output_type": "stream",
     "text": [
      "[15 38 74 75]\n",
      "[ 5  2 -6  5]\n",
      "[  50  360 1360 1400]\n",
      "[2.         1.11111111 0.85       1.14285714]\n",
      "[100000      0      0      0]\n"
     ]
    }
   ],
   "source": [
    "# Mathematical operation\n",
    "print(np.add(arr,arr1))\n",
    "print(np.subtract(arr,arr1))\n",
    "print(np.multiply(arr,arr1))\n",
    "print(np.divide(arr,arr1))"
   ]
  },
  {
   "cell_type": "code",
   "execution_count": 20,
   "id": "babec757-80e9-45f9-9562-f0ae1bf3eada",
   "metadata": {},
   "outputs": [
    {
     "name": "stdout",
     "output_type": "stream",
     "text": [
      "[[1 2 3]\n",
      " [4 5 6]]\n"
     ]
    }
   ],
   "source": [
    "\n",
    "arr = np.array([[1,2,3],[4,5,6]])\n",
    "arr1=np.array([[4,5,9],[9,8,7]])\n",
    "print(arr)"
   ]
  },
  {
   "cell_type": "code",
   "execution_count": 21,
   "id": "6b01e8a4-a410-4ef3-b20f-bc874712d373",
   "metadata": {},
   "outputs": [
    {
     "name": "stdout",
     "output_type": "stream",
     "text": [
      "[[ 5  7 12]\n",
      " [13 13 13]]\n",
      "[[-3 -3 -6]\n",
      " [-5 -3 -1]]\n",
      "[[ 4 10 27]\n",
      " [36 40 42]]\n",
      "[[0.25       0.4        0.33333333]\n",
      " [0.44444444 0.625      0.85714286]]\n"
     ]
    }
   ],
   "source": [
    "# 2D arrays mathematical operation:\n",
    "print(np.add(arr,arr1))\n",
    "print(np.subtract(arr,arr1))\n",
    "print(np.multiply(arr,arr1))\n",
    "print(np.divide(arr,arr1))"
   ]
  },
  {
   "cell_type": "code",
   "execution_count": null,
   "id": "60d058bb-8ce0-4ee9-ac8b-51e04c0a32a4",
   "metadata": {},
   "outputs": [],
   "source": []
  }
 ],
 "metadata": {
  "kernelspec": {
   "display_name": "Python 3 (ipykernel)",
   "language": "python",
   "name": "python3"
  },
  "language_info": {
   "codemirror_mode": {
    "name": "ipython",
    "version": 3
   },
   "file_extension": ".py",
   "mimetype": "text/x-python",
   "name": "python",
   "nbconvert_exporter": "python",
   "pygments_lexer": "ipython3",
   "version": "3.12.3"
  }
 },
 "nbformat": 4,
 "nbformat_minor": 5
}
