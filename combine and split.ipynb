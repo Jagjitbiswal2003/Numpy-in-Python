{
 "cells": [
  {
   "cell_type": "code",
   "execution_count": 1,
   "id": "631c03a1-caca-4082-a4e4-88db72969dab",
   "metadata": {},
   "outputs": [],
   "source": [
    "import numpy as np"
   ]
  },
  {
   "cell_type": "code",
   "execution_count": 2,
   "id": "bf75ccd6-9639-4395-b530-236015c6e605",
   "metadata": {},
   "outputs": [
    {
     "name": "stdout",
     "output_type": "stream",
     "text": [
      "[1 2 3] [4 5 6] [5 7 9]\n"
     ]
    }
   ],
   "source": [
    "arr=np.array([1,2,3])\n",
    "arr1=np.array([4,5,6])\n",
    "arr2=np.add(arr,arr1)\n",
    "print(arr,arr1,arr2)"
   ]
  },
  {
   "cell_type": "code",
   "execution_count": 4,
   "id": "c780dce1-b1ec-4e3f-96b3-241048fbe5b9",
   "metadata": {},
   "outputs": [
    {
     "name": "stdout",
     "output_type": "stream",
     "text": [
      "[1 2 3 5 7 9]\n"
     ]
    }
   ],
   "source": [
    "# concate arr and arr2\n",
    "print(np.concatenate([arr,arr2]))"
   ]
  },
  {
   "cell_type": "code",
   "execution_count": 5,
   "id": "591573e7-747f-4996-b2ca-1056677a415d",
   "metadata": {},
   "outputs": [
    {
     "name": "stdout",
     "output_type": "stream",
     "text": [
      "[1 2 3 5 7 9]\n"
     ]
    }
   ],
   "source": [
    "# concate axis wise\n",
    "# vetically concate\n",
    "#print(np.concatenate([arr,arr2], axis=0))\n",
    "#or\n",
    "print(np.vstack([arr3,arr4])) #  it also use to concate vertically"
   ]
  },
  {
   "cell_type": "code",
   "execution_count": 8,
   "id": "f690c794-c365-4b35-aea4-04cb6908b41c",
   "metadata": {},
   "outputs": [
    {
     "name": "stdout",
     "output_type": "stream",
     "text": [
      "[[ 1  2  3  5  7  8]\n",
      " [ 4  5  6  8  9 10]]\n"
     ]
    }
   ],
   "source": [
    "# horizontally concate - 2D array need\n",
    "arr3=np.array([[1,2,3],[4,5,6]])\n",
    "arr4=np.array([[5,7,8],[8,9,10]])\n",
    "#print(np.concatenate([arr3,arr4], axis=1))\n",
    "#or\n",
    "print(np.hstack([arr3,arr4])) # it also use to concate horizontally"
   ]
  },
  {
   "cell_type": "code",
   "execution_count": 13,
   "id": "ddd30c02-a58a-4cff-b660-7407fa5e67d0",
   "metadata": {},
   "outputs": [
    {
     "name": "stdout",
     "output_type": "stream",
     "text": [
      "[array([1, 2]), array([3, 4]), array([5, 6]), array([7, 8]), array([ 9, 10])]\n",
      "[3 4]\n"
     ]
    }
   ],
   "source": [
    "# Split the array\n",
    "arr = np.array([1,2,3,4,5,6,7,8,9,10])\n",
    "di = np.split(arr,5) #5 means the split function split the array in 5 different array and you can change the value according to you\n",
    "print(di)\n",
    "print(di[1])"
   ]
  },
  {
   "cell_type": "code",
   "execution_count": null,
   "id": "d3d16cb5-c616-4762-b69f-75e92b4f66e1",
   "metadata": {},
   "outputs": [],
   "source": []
  }
 ],
 "metadata": {
  "kernelspec": {
   "display_name": "Python 3 (ipykernel)",
   "language": "python",
   "name": "python3"
  },
  "language_info": {
   "codemirror_mode": {
    "name": "ipython",
    "version": 3
   },
   "file_extension": ".py",
   "mimetype": "text/x-python",
   "name": "python",
   "nbconvert_exporter": "python",
   "pygments_lexer": "ipython3",
   "version": "3.12.3"
  }
 },
 "nbformat": 4,
 "nbformat_minor": 5
}
